{
 "cells": [
  {
   "cell_type": "markdown",
   "source": [
    "Import dependencies"
   ],
   "metadata": {
    "collapsed": false
   },
   "id": "27c3f8a74382b136"
  },
  {
   "cell_type": "code",
   "outputs": [],
   "source": [
    "import random\n",
    "from shapely.geometry import Polygon, Point\n",
    "from k_means_constrained import KMeansConstrained\n",
    "from ipyleaflet import (\n",
    "    Map,\n",
    "    DrawControl,\n",
    "    Marker,\n",
    "    AwesomeIcon,\n",
    "    Icon\n",
    ")\n",
    "from time import time\n",
    "from math import floor"
   ],
   "metadata": {
    "collapsed": false,
    "ExecuteTime": {
     "end_time": "2024-02-11T15:03:00.747190Z",
     "start_time": "2024-02-11T15:03:00.739545Z"
    }
   },
   "id": "60154b24071c1df3",
   "execution_count": 113
  },
  {
   "cell_type": "markdown",
   "source": [
    "Set Şerifali polygon for random geolocation generation."
   ],
   "metadata": {
    "collapsed": false
   },
   "id": "32de38dce99e2bd6"
  },
  {
   "cell_type": "code",
   "outputs": [],
   "source": [
    "poly = Polygon([[29.1383021, 40.996777], [29.1392317, 40.9966518], [29.1396906, 40.9965677], [29.1464479, 40.9953285],\n",
    "                [29.1484288, 40.9950402], [29.1508561, 40.9947584], [29.1524178, 40.9946703], [29.1529304, 40.994669],\n",
    "                [29.1549765, 40.994664], [29.1553184, 40.9946632], [29.1552472, 40.9954192], [29.155156, 40.9962492],\n",
    "                [29.1549253, 40.9974476], [29.1548175, 40.9977817], [29.1548181, 40.9979932], [29.1548618, 40.9981628],\n",
    "                [29.1550613, 40.9986191], [29.1554278, 40.9992955], [29.1555865, 40.9996108], [29.1560911, 41.0006134],\n",
    "                [29.156274, 41.0008778], [29.1566205, 41.0013788], [29.1567892, 41.0015746], [29.1565052, 41.0017209],\n",
    "                [29.1562504, 41.0018404], [29.1557649, 41.0020367], [29.1553035, 41.0022067], [29.1540724, 41.0027128],\n",
    "                [29.1523853, 41.0033707], [29.1522029, 41.0034435], [29.1505855, 41.0040832], [29.1489682, 41.0047349],\n",
    "                [29.148362, 41.0049637], [29.1468787, 41.0055567], [29.1465153, 41.0057065], [29.1461827, 41.0058462],\n",
    "                [29.1460673, 41.0059282], [29.1459882, 41.0060223], [29.145952, 41.0059828], [29.1456771, 41.0058098],\n",
    "                [29.1455269, 41.0057025], [29.1453284, 41.0055648], [29.1450199, 41.0053483], [29.1448134, 41.0051883],\n",
    "                [29.1446954, 41.0050811], [29.144403, 41.0048017], [29.1441509, 41.0045426], [29.1438693, 41.0042491],\n",
    "                [29.1430056, 41.0033524], [29.1422626, 41.0026197], [29.1418657, 41.0022128], [29.1418132, 41.0021467],\n",
    "                [29.1417785, 41.002103], [29.1417309, 41.0020272], [29.1416994, 41.001978], [29.1415706, 41.0017341],\n",
    "                [29.1413386, 41.0013798], [29.1411951, 41.0010995], [29.1403589, 41.0010912], [29.1403099, 41.0010914],\n",
    "                [29.1401866, 41.0006359], [29.1401222, 41.0003667], [29.1400927, 41.0001643], [29.1401222, 40.9999355],\n",
    "                [29.1402027, 40.9990995], [29.1400632, 40.9986177], [29.1399211, 40.99823], [29.1397935, 40.9978893],\n",
    "                [29.1397534, 40.9977867], [29.139622, 40.9974861], [29.1395115, 40.99725], [29.1394865, 40.9971966],\n",
    "                [29.1383021, 40.996777]])\n",
    "# Make poly shrink to not intercept with highway\n",
    "poly = poly.buffer(-0.0005, join_style=2)\n",
    "print(poly)"
   ],
   "metadata": {
    "collapsed": false
   },
   "id": "1428535f948d6124",
   "execution_count": null
  },
  {
   "cell_type": "markdown",
   "source": [
    "Generate Data"
   ],
   "metadata": {
    "collapsed": false
   },
   "id": "871190e43232b4c9"
  },
  {
   "cell_type": "code",
   "outputs": [],
   "source": [
    "min_x, min_y, max_x, max_y = poly.bounds\n",
    "points = []\n",
    "while len(points) < 500:\n",
    "    random_point = Point([random.uniform(min_x, max_x), random.uniform(min_y, max_y)])\n",
    "    if random_point.within(poly):\n",
    "        points.append(random_point)\n",
    "# Choose the number of points desired. This example uses 20 points. \n",
    "# Printing the results.\n",
    "for p in points:\n",
    "    print(p.x, \",\", p.y)\n",
    "# Credits https://medium.com/the-data-journal/a-quick-trick-to-create-random-lat-long-coordinates-in-python-within-a-defined-polygon-e8997f05123a"
   ],
   "metadata": {
    "collapsed": false
   },
   "id": "7e41a77856972a2a",
   "execution_count": null
  },
  {
   "cell_type": "markdown",
   "source": [],
   "metadata": {
    "collapsed": false
   },
   "id": "c926ca9d560e2b4b"
  },
  {
   "cell_type": "markdown",
   "source": [
    "Display Points on Map"
   ],
   "metadata": {
    "collapsed": false
   },
   "id": "a4b317097de2ccae"
  },
  {
   "cell_type": "code",
   "outputs": [],
   "source": [
    "m = Map(zoom=16)\n",
    "markers = []\n",
    "for p in points:\n",
    "    icon = Icon(icon_url=\"./imgs/icons8-dot-24.png\", icon_size=(10, 10))\n",
    "    marker = Marker(location=(p.y, p.x), draggable=False, icon=icon)\n",
    "    m.add(marker)\n",
    "    markers.append(marker)\n",
    "\n",
    "dc = DrawControl()\n",
    "\n",
    "m.add_control(dc)\n",
    "m.center = (points[0].y, points[0].x)\n",
    "m"
   ],
   "metadata": {
    "collapsed": false
   },
   "id": "53058572ff1172a",
   "execution_count": null
  },
  {
   "cell_type": "markdown",
   "source": [
    "Define warehouse location"
   ],
   "metadata": {
    "collapsed": false
   },
   "id": "15830dc06bf8ad75"
  },
  {
   "cell_type": "code",
   "outputs": [],
   "source": [
    "warehouseLocation = (40.99808944128814, 29.15221946728115)\n",
    "\n",
    "warehouseMarker = Marker(z_index_offset=100,\n",
    "                         location=warehouseLocation,\n",
    "                         icon=Icon(icon_url='./imgs/icons8-warehouse-48.png',\n",
    "                                   marker_color='red',\n",
    "                                   icon_color='black'))\n",
    "\n",
    "m.add(warehouseMarker)\n",
    "m.center = warehouseLocation\n",
    "m"
   ],
   "metadata": {
    "collapsed": false
   },
   "id": "17d05ebda76853c2",
   "execution_count": null
  },
  {
   "cell_type": "markdown",
   "source": [
    "Cluster points."
   ],
   "metadata": {
    "collapsed": false
   },
   "id": "9b4c8e99c98e0db8"
  },
  {
   "cell_type": "code",
   "outputs": [
    {
     "name": "stdout",
     "output_type": "stream",
     "text": [
      "Execution Time:14.911939859390259\n"
     ]
    },
    {
     "data": {
      "text/plain": "Map(center=[41.00038494800897, 29.150258608111837], controls=(ZoomControl(options=['position', 'zoom_in_text',…",
      "application/vnd.jupyter.widget-view+json": {
       "version_major": 2,
       "version_minor": 0,
       "model_id": "39026b57247145bea93ff0c2428ebfc8"
      }
     },
     "execution_count": 114,
     "metadata": {},
     "output_type": "execute_result"
    }
   ],
   "source": [
    "# Change me\n",
    "total_basket = 10\n",
    "\n",
    "colors = ['white', 'red', 'darkred', 'lightred', 'orange', 'beige', 'green', 'darkgreen', 'lightgreen', 'blue',\n",
    "          'darkblue', 'lightblue', 'purple', 'darkpurple', 'pink', 'cadetblue', 'white', 'gray', 'lightgray', 'black']\n",
    "\n",
    "start_time = time()\n",
    "kmeans = KMeansConstrained(\n",
    "    n_clusters=20,\n",
    "    size_min=18,\n",
    "    size_max=floor(len(points) / 20),\n",
    "    random_state=0\n",
    ").fit(list(map(lambda point: (point.x, point.y), points)))\n",
    "end_time = time() - start_time\n",
    "print(\"Execution Time:\" + str(end_time))\n",
    "labels = kmeans.labels_\n",
    "\n",
    "m = Map(zoom=16)\n",
    "for n in range(len(points)):\n",
    "    point = points[n]\n",
    "    label = labels[n]\n",
    "    marker = Marker(location=(point.y, point.x), draggable=False,\n",
    "                    icon=AwesomeIcon(marker_color=colors[label],\n",
    "                                     ))\n",
    "    m.add(marker)\n",
    "\n",
    "dc = DrawControl()\n",
    "\n",
    "m.add_control(dc)\n",
    "m.center = (points[0].y, points[0].x)\n",
    "m"
   ],
   "metadata": {
    "collapsed": false,
    "ExecuteTime": {
     "end_time": "2024-02-11T15:03:19.050069Z",
     "start_time": "2024-02-11T15:03:03.557427Z"
    }
   },
   "id": "99836345502598b",
   "execution_count": 114
  }
 ],
 "metadata": {
  "kernelspec": {
   "display_name": "Python 3",
   "language": "python",
   "name": "python3"
  },
  "language_info": {
   "codemirror_mode": {
    "name": "ipython",
    "version": 2
   },
   "file_extension": ".py",
   "mimetype": "text/x-python",
   "name": "python",
   "nbconvert_exporter": "python",
   "pygments_lexer": "ipython2",
   "version": "2.7.6"
  }
 },
 "nbformat": 4,
 "nbformat_minor": 5
}
